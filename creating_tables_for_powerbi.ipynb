{
 "cells": [
  {
   "cell_type": "code",
   "execution_count": 0,
   "metadata": {
    "application/vnd.databricks.v1+cell": {
     "cellMetadata": {
      "byteLimit": 2048000,
      "implicitDf": true,
      "rowLimit": 10000
     },
     "inputWidgets": {},
     "nuid": "6043bef3-1b24-4684-8f20-c2e664ba0948",
     "showTitle": false,
     "title": ""
    }
   },
   "outputs": [],
   "source": [
    "%sql\n",
    "SELECT * FROM ds_training_1.ds_control.table_config; "
   ]
  },
  {
   "cell_type": "markdown",
   "metadata": {
    "application/vnd.databricks.v1+cell": {
     "cellMetadata": {},
     "inputWidgets": {},
     "nuid": "9f8e56bd-c735-4874-b441-0fbf9d646890",
     "showTitle": false,
     "title": ""
    }
   },
   "source": [
    "query freq"
   ]
  },
  {
   "cell_type": "code",
   "execution_count": 0,
   "metadata": {
    "application/vnd.databricks.v1+cell": {
     "cellMetadata": {
      "byteLimit": 2048000,
      "rowLimit": 10000
     },
     "inputWidgets": {},
     "nuid": "c101eedb-dc17-4fe2-938b-240fa3d8905b",
     "showTitle": false,
     "title": ""
    }
   },
   "outputs": [],
   "source": [
    "%sql\n",
    "create or replace table ds_training_1.ds_gold.imp_queries_query_freq (statement_text string, query_frequency string)"
   ]
  },
  {
   "cell_type": "code",
   "execution_count": 0,
   "metadata": {
    "application/vnd.databricks.v1+cell": {
     "cellMetadata": {
      "byteLimit": 2048000,
      "rowLimit": 10000
     },
     "inputWidgets": {},
     "nuid": "5bf351e6-5be6-42bf-b9fc-9f86c8fff160",
     "showTitle": false,
     "title": ""
    }
   },
   "outputs": [],
   "source": [
    "%sql\n",
    "INSERT INTO ds_training_1.ds_gold.imp_queries_query_freq\n",
    "SELECT \n",
    "    statement_text, \n",
    "    COUNT(statement_text) AS query_frequency\n",
    "FROM system.query.history\n",
    "WHERE statement_text LIKE '%observe_ai.ecomm_sales%'\n",
    "GROUP BY statement_text;"
   ]
  },
  {
   "cell_type": "code",
   "execution_count": 0,
   "metadata": {
    "application/vnd.databricks.v1+cell": {
     "cellMetadata": {
      "byteLimit": 2048000,
      "rowLimit": 10000
     },
     "inputWidgets": {},
     "nuid": "00a9b343-32dd-463c-9e53-18675145439d",
     "showTitle": false,
     "title": ""
    }
   },
   "outputs": [],
   "source": [
    "%sql\n",
    "select * from ds_training_1.ds_gold.imp_queries_query_freq\n"
   ]
  },
  {
   "cell_type": "markdown",
   "metadata": {
    "application/vnd.databricks.v1+cell": {
     "cellMetadata": {},
     "inputWidgets": {},
     "nuid": "f86b71c7-01dd-4aba-bb1f-cdd71e06f937",
     "showTitle": false,
     "title": ""
    }
   },
   "source": [
    "imp query data\n"
   ]
  },
  {
   "cell_type": "code",
   "execution_count": 0,
   "metadata": {
    "application/vnd.databricks.v1+cell": {
     "cellMetadata": {
      "byteLimit": 2048000,
      "implicitDf": true,
      "rowLimit": 10000
     },
     "inputWidgets": {},
     "nuid": "53514a8e-2f82-4c07-b9b8-aaebefaa1f75",
     "showTitle": false,
     "title": ""
    }
   },
   "outputs": [],
   "source": [
    "%sql\n",
    "create or replace table ds_training_1.ds_gold.imp_queries_data (statement_id string, executed_by string, statement_text string, execution_duration_ms bigint, execution_status string, error_message string, read_files bigint, end_time timestamp)"
   ]
  },
  {
   "cell_type": "code",
   "execution_count": 0,
   "metadata": {
    "application/vnd.databricks.v1+cell": {
     "cellMetadata": {
      "byteLimit": 2048000,
      "rowLimit": 10000
     },
     "inputWidgets": {},
     "nuid": "cc6de4d8-1e16-484a-a3e9-3a72600a418c",
     "showTitle": false,
     "title": ""
    }
   },
   "outputs": [],
   "source": [
    "%sql\n",
    "INSERT INTO ds_training_1.ds_gold.imp_queries_data\n",
    "SELECT \n",
    "    h.statement_id, \n",
    "    h.executed_by, \n",
    "    h.statement_text, \n",
    "    h.execution_duration_ms, \n",
    "    h.execution_status,\n",
    "    h.error_message, \n",
    "    h.read_files,\n",
    "    h.end_time\n",
    "\n",
    "FROM \n",
    "    system.query.history h\n",
    "JOIN \n",
    "    (SELECT \n",
    "        '%' || CONCAT(catalog_name, '.', schema_name, '.', table_name) || '%' AS pattern\n",
    "     FROM \n",
    "        ds_training_1.ds_control.table_config) tc\n",
    "ON \n",
    "    h.statement_text LIKE tc.pattern;\n"
   ]
  },
  {
   "cell_type": "code",
   "execution_count": 0,
   "metadata": {
    "application/vnd.databricks.v1+cell": {
     "cellMetadata": {
      "byteLimit": 2048000,
      "rowLimit": 10000
     },
     "inputWidgets": {},
     "nuid": "d3463741-602e-47c0-9dc7-02749aad0f02",
     "showTitle": false,
     "title": ""
    }
   },
   "outputs": [],
   "source": [
    "%sql\n",
    "select * from ds_training_1.ds_gold.imp_queries_data ;"
   ]
  },
  {
   "cell_type": "code",
   "execution_count": 0,
   "metadata": {
    "application/vnd.databricks.v1+cell": {
     "cellMetadata": {
      "byteLimit": 2048000,
      "rowLimit": 10000
     },
     "inputWidgets": {},
     "nuid": "88756e8b-7b12-4724-a63b-a9c9d1e8de3e",
     "showTitle": false,
     "title": ""
    }
   },
   "outputs": [],
   "source": [
    "%sql\n",
    "select statement_id, executed_by, statement_text, execution_duration_ms, read_files, execution_status, error_message, end_time from system.query.history where statement_text like '%observe_ai.ecomm_sales%' ;"
   ]
  },
  {
   "cell_type": "code",
   "execution_count": 0,
   "metadata": {
    "application/vnd.databricks.v1+cell": {
     "cellMetadata": {
      "byteLimit": 2048000,
      "implicitDf": true,
      "rowLimit": 10000
     },
     "inputWidgets": {},
     "nuid": "3e70f2f8-2074-46af-a451-2bff8e397147",
     "showTitle": false,
     "title": ""
    }
   },
   "outputs": [],
   "source": [
    "%sql\n",
    "-- %sql\n",
    "-- INSERT INTO ds_training_1.ds_gold.imp_queries_data\n",
    "-- SELECT \n",
    "--     statement_id, \n",
    "--     executed_by, \n",
    "--     statement_text, \n",
    "--     execution_duration_ms, \n",
    "--     read_files \n",
    "-- FROM system.query.history \n",
    "-- WHERE statement_text LIKE '%observe_ai.ecomm_sales%';\n"
   ]
  },
  {
   "cell_type": "code",
   "execution_count": 0,
   "metadata": {
    "application/vnd.databricks.v1+cell": {
     "cellMetadata": {
      "byteLimit": 2048000,
      "rowLimit": 10000
     },
     "inputWidgets": {},
     "nuid": "d261e812-22d0-4167-9c85-14f252ded208",
     "showTitle": false,
     "title": ""
    }
   },
   "outputs": [],
   "source": [
    "%sql\n",
    "select * from ds_training_1.ds_gold.imp_queries_data\n",
    "order by end_time desc"
   ]
  },
  {
   "cell_type": "markdown",
   "metadata": {
    "application/vnd.databricks.v1+cell": {
     "cellMetadata": {},
     "inputWidgets": {},
     "nuid": "96dc5e37-aec3-4085-b57f-ddf632c83548",
     "showTitle": false,
     "title": ""
    }
   },
   "source": [
    "query frequency"
   ]
  },
  {
   "cell_type": "code",
   "execution_count": 0,
   "metadata": {
    "application/vnd.databricks.v1+cell": {
     "cellMetadata": {
      "byteLimit": 2048000,
      "rowLimit": 10000
     },
     "inputWidgets": {},
     "nuid": "5cc66b7a-5f2a-4cbc-93ca-23b4b98f54c6",
     "showTitle": false,
     "title": ""
    }
   },
   "outputs": [],
   "source": [
    "%sql\n",
    "create table ds_training_1.ds_gold.imp_queries_query_freq(statement_text string, query_frequency int)"
   ]
  },
  {
   "cell_type": "code",
   "execution_count": 0,
   "metadata": {
    "application/vnd.databricks.v1+cell": {
     "cellMetadata": {
      "byteLimit": 2048000,
      "rowLimit": 10000
     },
     "inputWidgets": {},
     "nuid": "02d64d99-3b9f-491d-bf12-9c9923d14ab9",
     "showTitle": false,
     "title": ""
    }
   },
   "outputs": [],
   "source": [
    "%sql\n",
    "INSERT INTO  ds_training_1.ds_gold.imp_queries_query_freq(statement_text, query_frequency)\n",
    "SELECT \n",
    "    statement_text, \n",
    "    count(statement_text) as query_frequency\n",
    "FROM \n",
    "    ds_training_1.ds_gold.imp_queries_data \n",
    "WHERE \n",
    "    statement_text LIKE '%observe_ai.ecomm_sales%'\n",
    "GROUP BY \n",
    "    statement_text \n",
    "ORDER BY \n",
    "    query_frequency DESC;\n"
   ]
  },
  {
   "cell_type": "code",
   "execution_count": 0,
   "metadata": {
    "application/vnd.databricks.v1+cell": {
     "cellMetadata": {
      "byteLimit": 2048000,
      "rowLimit": 10000
     },
     "inputWidgets": {},
     "nuid": "ea16a078-56e1-4766-9dc1-d591bfad8438",
     "showTitle": false,
     "title": ""
    }
   },
   "outputs": [],
   "source": [
    "%sql\n",
    "select * from ds_training_1.ds_gold.imp_queries_query_freq"
   ]
  },
  {
   "cell_type": "code",
   "execution_count": 0,
   "metadata": {
    "application/vnd.databricks.v1+cell": {
     "cellMetadata": {
      "byteLimit": 2048000,
      "implicitDf": true,
      "rowLimit": 10000
     },
     "inputWidgets": {},
     "nuid": "ca466183-e0d3-42f2-a863-79cebeca7615",
     "showTitle": false,
     "title": ""
    }
   },
   "outputs": [],
   "source": [
    "%sql\n",
    "-- %sql\n",
    "-- select statement_text, count(statement_text) as query_frequency  from ds_training_1.ds_gold.imp_queries_data where statement_text like '%observe_ai.ecomm_sales%' group by statement_text order by query_frequency desc;"
   ]
  },
  {
   "cell_type": "markdown",
   "metadata": {
    "application/vnd.databricks.v1+cell": {
     "cellMetadata": {},
     "inputWidgets": {},
     "nuid": "45a4cdab-99ad-472c-b09a-0b411f46e591",
     "showTitle": false,
     "title": ""
    }
   },
   "source": [
    "user frequency"
   ]
  },
  {
   "cell_type": "code",
   "execution_count": 0,
   "metadata": {
    "application/vnd.databricks.v1+cell": {
     "cellMetadata": {
      "byteLimit": 2048000,
      "implicitDf": true,
      "rowLimit": 10000
     },
     "inputWidgets": {},
     "nuid": "7e72bc70-fa83-428d-8499-15f3dd73b936",
     "showTitle": false,
     "title": ""
    }
   },
   "outputs": [],
   "source": [
    "%sql\n",
    "select executed_by, count(executed_by) as user_frequency from ds_training_1.ds_gold.imp_queries_data where statement_text like '%observe_ai.ecomm_sales%'  group by executed_by order by count(executed_by) desc;"
   ]
  },
  {
   "cell_type": "markdown",
   "metadata": {
    "application/vnd.databricks.v1+cell": {
     "cellMetadata": {},
     "inputWidgets": {},
     "nuid": "3eb45df2-1704-4831-9d58-0a144dbc71d5",
     "showTitle": false,
     "title": ""
    }
   },
   "source": [
    "important queries ranked with normalized composite score"
   ]
  },
  {
   "cell_type": "code",
   "execution_count": 0,
   "metadata": {
    "application/vnd.databricks.v1+cell": {
     "cellMetadata": {
      "byteLimit": 2048000,
      "rowLimit": 10000
     },
     "inputWidgets": {},
     "nuid": "c498bdce-c540-4dfd-a314-2a0c62a93bd6",
     "showTitle": false,
     "title": ""
    }
   },
   "outputs": [],
   "source": [
    "%sql\n",
    "create or replace table ds_training_1.ds_gold.imp_queries_rank(statement_text string, executed_by string, execution_status string,error_message string, composite_score double, rank int)"
   ]
  },
  {
   "cell_type": "code",
   "execution_count": 0,
   "metadata": {
    "application/vnd.databricks.v1+cell": {
     "cellMetadata": {
      "byteLimit": 2048000,
      "rowLimit": 10000
     },
     "inputWidgets": {},
     "nuid": "c1ebfa3e-266e-4bb2-9310-480b57e3036d",
     "showTitle": false,
     "title": ""
    }
   },
   "outputs": [],
   "source": [
    "%sql\n",
    "select * from ds_training_1.ds_gold.imp_queries_rank"
   ]
  },
  {
   "cell_type": "markdown",
   "metadata": {
    "application/vnd.databricks.v1+cell": {
     "cellMetadata": {},
     "inputWidgets": {},
     "nuid": "8984da27-a9ab-473a-b178-943a4511be03",
     "showTitle": false,
     "title": ""
    }
   },
   "source": [
    "failed important queries"
   ]
  },
  {
   "cell_type": "code",
   "execution_count": 0,
   "metadata": {
    "application/vnd.databricks.v1+cell": {
     "cellMetadata": {
      "byteLimit": 2048000,
      "rowLimit": 10000
     },
     "inputWidgets": {},
     "nuid": "5b4e0b6f-d53b-4ae4-a886-4077e0d95e35",
     "showTitle": false,
     "title": ""
    }
   },
   "outputs": [],
   "source": [
    "%sql\n",
    "create table ds_training_1.ds_gold.important_queries_failed(statement_text string, executed_by string, execution_status string, error_message string, composite_score double, rank int)"
   ]
  },
  {
   "cell_type": "code",
   "execution_count": 0,
   "metadata": {
    "application/vnd.databricks.v1+cell": {
     "cellMetadata": {
      "byteLimit": 2048000,
      "rowLimit": 10000
     },
     "inputWidgets": {},
     "nuid": "a22e93f0-6bcd-4e12-b52b-5b4ae9340788",
     "showTitle": false,
     "title": ""
    }
   },
   "outputs": [],
   "source": [
    "%sql\n",
    "select * from ds_training_1.ds_gold.important_queries_failed"
   ]
  },
  {
   "cell_type": "markdown",
   "metadata": {
    "application/vnd.databricks.v1+cell": {
     "cellMetadata": {},
     "inputWidgets": {},
     "nuid": "75a186b3-dd53-410e-bb60-1dacf88d7390",
     "showTitle": false,
     "title": ""
    }
   },
   "source": [
    "classified imp _queries_"
   ]
  },
  {
   "cell_type": "code",
   "execution_count": 0,
   "metadata": {
    "application/vnd.databricks.v1+cell": {
     "cellMetadata": {
      "byteLimit": 2048000,
      "rowLimit": 10000
     },
     "inputWidgets": {},
     "nuid": "86d5f64e-060e-415a-9bed-3a4653550841",
     "showTitle": false,
     "title": ""
    }
   },
   "outputs": [],
   "source": [
    "%sql\n",
    "create table ds_training_1.ds_gold.important_queries_classification(statement_text string, executed_by string, execution_status string, error_message string, composite_score string, rank int, query_importance string)"
   ]
  },
  {
   "cell_type": "code",
   "execution_count": 0,
   "metadata": {
    "application/vnd.databricks.v1+cell": {
     "cellMetadata": {
      "byteLimit": 2048000,
      "rowLimit": 10000
     },
     "inputWidgets": {},
     "nuid": "1ea41269-43e6-4499-b79b-587e926779dc",
     "showTitle": false,
     "title": ""
    }
   },
   "outputs": [],
   "source": [
    "%sql\n",
    "select * from ds_training_1.ds_gold.important_queries_classification"
   ]
  },
  {
   "cell_type": "markdown",
   "metadata": {
    "application/vnd.databricks.v1+cell": {
     "cellMetadata": {},
     "inputWidgets": {},
     "nuid": "40b5c43c-fe8e-4776-8c87-4bf83515caf1",
     "showTitle": false,
     "title": ""
    }
   },
   "source": [
    "bad queries\n"
   ]
  },
  {
   "cell_type": "code",
   "execution_count": 0,
   "metadata": {
    "application/vnd.databricks.v1+cell": {
     "cellMetadata": {
      "byteLimit": 2048000,
      "rowLimit": 10000
     },
     "inputWidgets": {},
     "nuid": "8e4f673d-d488-4807-84b5-4a8f958de9b8",
     "showTitle": false,
     "title": ""
    }
   },
   "outputs": [],
   "source": [
    "%sql\n",
    "create or replace table ds_training_1.ds_gold.bad_queries_rank(statement_text string, executed_by string, execution_status string, error_message string, normalized_composite_score double, rank int)"
   ]
  },
  {
   "cell_type": "code",
   "execution_count": 0,
   "metadata": {
    "application/vnd.databricks.v1+cell": {
     "cellMetadata": {
      "byteLimit": 2048000,
      "rowLimit": 10000
     },
     "inputWidgets": {},
     "nuid": "01c1de87-44d5-4b1c-8d6d-a06f21740156",
     "showTitle": false,
     "title": ""
    }
   },
   "outputs": [],
   "source": [
    "%sql\n",
    "select * from ds_training_1.ds_gold.bad_queries_rank"
   ]
  },
  {
   "cell_type": "code",
   "execution_count": 0,
   "metadata": {
    "application/vnd.databricks.v1+cell": {
     "cellMetadata": {
      "byteLimit": 2048000,
      "rowLimit": 10000
     },
     "inputWidgets": {},
     "nuid": "8d47dd3b-a1e5-4f27-a584-86a2e1431c78",
     "showTitle": false,
     "title": ""
    }
   },
   "outputs": [],
   "source": [
    "%sql\n",
    "create or replace table ds_training_1.ds_gold.bad_queries_data(statement_id string, executed_by string, statement_text string, total_duration_ms bigint, execution_duration_ms bigint, compilation_duration_ms bigint, read_rows bigint, produced_rows bigint, read_bytes bigint,end_time timestamp, normalized_total_duration_ms double, normalized_execution_duration_ms double, normalized_compilation_duration_ms double, normalized_read_rows double, normalized_produced_rows double, normalized_read_bytes double)"
   ]
  },
  {
   "cell_type": "code",
   "execution_count": 0,
   "metadata": {
    "application/vnd.databricks.v1+cell": {
     "cellMetadata": {
      "byteLimit": 2048000,
      "rowLimit": 10000
     },
     "inputWidgets": {},
     "nuid": "add0e22a-388e-4199-ae5d-87fcc9255d7a",
     "showTitle": false,
     "title": ""
    }
   },
   "outputs": [],
   "source": [
    "%sql\n",
    "select * from ds_training_1.ds_gold.bad_queries_data"
   ]
  }
 ],
 "metadata": {
  "application/vnd.databricks.v1+notebook": {
   "dashboards": [],
   "environmentMetadata": null,
   "language": "python",
   "notebookMetadata": {
    "mostRecentlyExecutedCommandWithImplicitDF": {
     "commandId": -1,
     "dataframes": [
      "_sqldf"
     ]
    },
    "pythonIndentUnit": 4
   },
   "notebookName": "creating_tables_for_powerbi",
   "widgets": {}
  }
 },
 "nbformat": 4,
 "nbformat_minor": 0
}
